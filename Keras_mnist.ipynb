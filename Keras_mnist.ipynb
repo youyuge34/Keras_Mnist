{
 "cells": [
  {
   "cell_type": "code",
   "execution_count": 1,
   "metadata": {},
   "outputs": [],
   "source": [
    "%matplotlib inline\n",
    "\n",
    "import tensorflow as tf\n",
    "import matplotlib.pyplot as plt\n",
    "import numpy as np\n",
    "import tensorflow.examples.tutorials.mnist.input_data as input_data"
   ]
  },
  {
   "cell_type": "markdown",
   "metadata": {},
   "source": [
    "## 1、数据准备与预处理"
   ]
  },
  {
   "cell_type": "code",
   "execution_count": 2,
   "metadata": {},
   "outputs": [
    {
     "name": "stdout",
     "output_type": "stream",
     "text": [
      "Extracting MNIST_data/train-images-idx3-ubyte.gz\n",
      "Extracting MNIST_data/train-labels-idx1-ubyte.gz\n",
      "Extracting MNIST_data/t10k-images-idx3-ubyte.gz\n",
      "Extracting MNIST_data/t10k-labels-idx1-ubyte.gz\n",
      "Training data size:  55000\n",
      "Validating data size:  5000\n",
      "Testing data size:  10000\n"
     ]
    }
   ],
   "source": [
    "# 利用tf中的工具类加载mnist，也可以用Keras中的\n",
    "mnist = input_data.read_data_sets(\"MNIST_data/\", one_hot=True)\n",
    "print(\"Training data size: \", mnist.train.num_examples) \n",
    "print (\"Validating data size: \", mnist.validation.num_examples) \n",
    "print (\"Testing data size: \", mnist.test.num_examples) "
   ]
  },
  {
   "cell_type": "code",
   "execution_count": 17,
   "metadata": {},
   "outputs": [
    {
     "data": {
      "image/png": "[encoded data removed]",
      "text/plain": [
       "<matplotlib.figure.Figure at 0x2aa97db3c88>"
      ]
     },
     "metadata": {},
     "output_type": "display_data"
    }
   ],
   "source": [
    "# 用plt看一下前9张图片\n",
    "\n",
    "plt.figure(facecolor='white')  \n",
    "plt.subplots_adjust(wspace=0.5, hspace=1)  #调整间距\n",
    "\n",
    "for i in range(9):\n",
    "    pic = np.reshape(mnist.train.images[i],(28,28))\n",
    "    plt.subplot(3,3,i+1)\n",
    "    plt.imshow(pic, cmap='gray', interpolation='none')\n",
    "    plt.title(\"Class {}\".format(np.argmax(mnist.train.labels[i])))"
   ]
  },
  {
   "cell_type": "code",
   "execution_count": 5,
   "metadata": {},
   "outputs": [
    {
     "name": "stdout",
     "output_type": "stream",
     "text": [
      "x_train.shape = (55000, 784)\n",
      "y_train.shape = (55000, 10)\n"
     ]
    }
   ],
   "source": [
    "x_train = mnist.train.images / 255.\n",
    "y_train = mnist.train.labels\n",
    "x_validation = mnist.validation.images / 255.\n",
    "y_validation = mnist.validation.labels\n",
    "x_test = mnist.test.images / 255.\n",
    "y_test = mnist.test.labels\n",
    "\n",
    "print('x_train.shape =' , x_train.shape)\n",
    "print('y_train.shape =' , y_train.shape)"
   ]
  },
  {
   "cell_type": "markdown",
   "metadata": {},
   "source": [
    "## 2、建模\n"
   ]
  },
  {
   "cell_type": "code",
   "execution_count": 6,
   "metadata": {},
   "outputs": [],
   "source": [
    "import keras\n",
    "from keras.layers import Dense,Activation,Dropout\n",
    "from keras.models import Sequential\n",
    "from keras.optimizers import RMSprop\n",
    "\n",
    "batch_size = 128\n",
    "\n",
    "iter_epoch = 20\n",
    "\n",
    "class_num = 10"
   ]
  },
  {
   "cell_type": "code",
   "execution_count": 8,
   "metadata": {},
   "outputs": [
    {
     "name": "stdout",
     "output_type": "stream",
     "text": [
      "_________________________________________________________________\n",
      "Layer (type)                 Output Shape              Param #   \n",
      "=================================================================\n",
      "dense_4 (Dense)              (None, 512)               401920    \n",
      "_________________________________________________________________\n",
      "dropout_3 (Dropout)          (None, 512)               0         \n",
      "_________________________________________________________________\n",
      "dense_5 (Dense)              (None, 256)               131328    \n",
      "_________________________________________________________________\n",
      "activation_2 (Activation)    (None, 256)               0         \n",
      "_________________________________________________________________\n",
      "dropout_4 (Dropout)          (None, 256)               0         \n",
      "_________________________________________________________________\n",
      "dense_6 (Dense)              (None, 10)                2570      \n",
      "=================================================================\n",
      "Total params: 535,818\n",
      "Trainable params: 535,818\n",
      "Non-trainable params: 0\n",
      "_________________________________________________________________\n"
     ]
    }
   ],
   "source": [
    "model = Sequential()\n",
    "model.add(Dense(512,activation='relu',input_shape=(784,)))\n",
    "model.add(Dropout(0.2))\n",
    "\n",
    "model.add(Dense(256))\n",
    "model.add(Activation('relu'))\n",
    "model.add(Dropout(0.2))\n",
    "\n",
    "model.add(Dense(class_num,activation='softmax'))\n",
    "\n",
    "model.summary()"
   ]
  },
  {
   "cell_type": "code",
   "execution_count": 9,
   "metadata": {},
   "outputs": [],
   "source": [
    "model.compile(loss='categorical_crossentropy',\n",
    "             optimizer=RMSprop(),\n",
    "             metrics=['accuracy'])"
   ]
  },
  {
   "cell_type": "code",
   "execution_count": 11,
   "metadata": {},
   "outputs": [
    {
     "name": "stdout",
     "output_type": "stream",
     "text": [
      "Train on 55000 samples, validate on 5000 samples\n",
      "Epoch 1/20\n",
      "55000/55000 [==============================] - 4s 75us/step - loss: 1.0112 - acc: 0.6921 - val_loss: 0.4723 - val_acc: 0.8630\n",
      "Epoch 2/20\n",
      "55000/55000 [==============================] - 2s 44us/step - loss: 0.4228 - acc: 0.8733 - val_loss: 0.3304 - val_acc: 0.9044\n",
      "Epoch 3/20\n",
      "55000/55000 [==============================] - 3s 52us/step - loss: 0.3347 - acc: 0.9008 - val_loss: 0.2718 - val_acc: 0.9196\n",
      "Epoch 4/20\n",
      "55000/55000 [==============================] - 3s 47us/step - loss: 0.2772 - acc: 0.9180 - val_loss: 0.2293 - val_acc: 0.9294\n",
      "Epoch 5/20\n",
      "55000/55000 [==============================] - 3s 47us/step - loss: 0.2369 - acc: 0.9297 - val_loss: 0.1918 - val_acc: 0.9398\n",
      "Epoch 6/20\n",
      "55000/55000 [==============================] - 2s 43us/step - loss: 0.2010 - acc: 0.9397 - val_loss: 0.1668 - val_acc: 0.9498\n",
      "Epoch 7/20\n",
      "55000/55000 [==============================] - 2s 41us/step - loss: 0.1773 - acc: 0.9467 - val_loss: 0.1445 - val_acc: 0.9580\n",
      "Epoch 8/20\n",
      "55000/55000 [==============================] - 2s 39us/step - loss: 0.1569 - acc: 0.9531 - val_loss: 0.1378 - val_acc: 0.9598\n",
      "Epoch 9/20\n",
      "55000/55000 [==============================] - 2s 40us/step - loss: 0.1392 - acc: 0.9580 - val_loss: 0.1225 - val_acc: 0.9636\n",
      "Epoch 10/20\n",
      "55000/55000 [==============================] - 2s 39us/step - loss: 0.1269 - acc: 0.9618 - val_loss: 0.1117 - val_acc: 0.9694\n",
      "Epoch 11/20\n",
      "55000/55000 [==============================] - 2s 38us/step - loss: 0.1165 - acc: 0.9650 - val_loss: 0.1077 - val_acc: 0.9690\n",
      "Epoch 12/20\n",
      "55000/55000 [==============================] - 2s 39us/step - loss: 0.1071 - acc: 0.9670 - val_loss: 0.0946 - val_acc: 0.9724\n",
      "Epoch 13/20\n",
      "55000/55000 [==============================] - 2s 39us/step - loss: 0.0997 - acc: 0.9696 - val_loss: 0.0927 - val_acc: 0.9734\n",
      "Epoch 14/20\n",
      "55000/55000 [==============================] - 2s 39us/step - loss: 0.0927 - acc: 0.9725 - val_loss: 0.0872 - val_acc: 0.9754\n",
      "Epoch 15/20\n",
      "55000/55000 [==============================] - 2s 39us/step - loss: 0.0872 - acc: 0.9739 - val_loss: 0.0796 - val_acc: 0.9780\n",
      "Epoch 16/20\n",
      "55000/55000 [==============================] - 2s 39us/step - loss: 0.0822 - acc: 0.9751 - val_loss: 0.0781 - val_acc: 0.9764\n",
      "Epoch 17/20\n",
      "55000/55000 [==============================] - 2s 39us/step - loss: 0.0776 - acc: 0.9761 - val_loss: 0.0787 - val_acc: 0.9770\n",
      "Epoch 18/20\n",
      "55000/55000 [==============================] - 2s 38us/step - loss: 0.0721 - acc: 0.9780 - val_loss: 0.0814 - val_acc: 0.9752\n",
      "Epoch 19/20\n",
      "55000/55000 [==============================] - 2s 39us/step - loss: 0.0691 - acc: 0.9793 - val_loss: 0.0789 - val_acc: 0.9770\n",
      "Epoch 20/20\n",
      "55000/55000 [==============================] - 2s 39us/step - loss: 0.0662 - acc: 0.9803 - val_loss: 0.0710 - val_acc: 0.9798\n"
     ]
    },
    {
     "data": {
      "text/plain": [
       "<keras.callbacks.History at 0x2aa90fdd5f8>"
      ]
     },
     "execution_count": 11,
     "metadata": {},
     "output_type": "execute_result"
    }
   ],
   "source": [
    "#真正开始训练\n",
    "model.fit(x=x_train,y=y_train,\n",
    "          epochs=iter_epoch,\n",
    "          batch_size=batch_size,\n",
    "          verbose=1,\n",
    "          validation_data=(x_validation,y_validation))"
   ]
  },
  {
   "cell_type": "markdown",
   "metadata": {},
   "source": [
    "## 3、模型测试"
   ]
  },
  {
   "cell_type": "code",
   "execution_count": 14,
   "metadata": {},
   "outputs": [
    {
     "name": "stdout",
     "output_type": "stream",
     "text": [
      "total lost = 0.0790724267967\n",
      "accuracy = 0.9763\n"
     ]
    }
   ],
   "source": [
    "score = model.evaluate(x=x_test,y=y_test,verbose=0,batch_size=batch_size)\n",
    "print('total lost =',score[0])\n",
    "print('accuracy =',score[1])"
   ]
  },
  {
   "cell_type": "code",
   "execution_count": null,
   "metadata": {},
   "outputs": [],
   "source": []
  }
 ],
 "metadata": {
  "kernelspec": {
   "display_name": "Python 3",
   "language": "python",
   "name": "python3"
  },
  "language_info": {
   "codemirror_mode": {
    "name": "ipython",
    "version": 3
   },
   "file_extension": ".py",
   "mimetype": "text/x-python",
   "name": "python",
   "nbconvert_exporter": "python",
   "pygments_lexer": "ipython3",
   "version": "3.5.4"
  }
 },
 "nbformat": 4,
 "nbformat_minor": 2
}
