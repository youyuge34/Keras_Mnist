{
 "cells": [
  {
   "cell_type": "code",
   "execution_count": 1,
   "metadata": {},
   "outputs": [],
   "source": [
    "%matplotlib inline\n",
    "\n",
    "import tensorflow as tf\n",
    "import matplotlib.pyplot as plt\n",
    "import numpy as np\n",
    "import tensorflow.examples.tutorials.mnist.input_data as input_data"
   ]
  },
  {
   "cell_type": "markdown",
   "metadata": {},
   "source": [
    "## 1、数据准备与预处理"
   ]
  },
  {
   "cell_type": "code",
   "execution_count": 2,
   "metadata": {},
   "outputs": [
    {
     "name": "stdout",
     "output_type": "stream",
     "text": [
      "Extracting MNIST_data/train-images-idx3-ubyte.gz\n",
      "Extracting MNIST_data/train-labels-idx1-ubyte.gz\n",
      "Extracting MNIST_data/t10k-images-idx3-ubyte.gz\n",
      "Extracting MNIST_data/t10k-labels-idx1-ubyte.gz\n",
      "Training data size:  55000\n",
      "Validating data size:  5000\n",
      "Testing data size:  10000\n"
     ]
    }
   ],
   "source": [
    "# 利用tf中的工具类加载mnist，也可以用Keras中的\n",
    "mnist = input_data.read_data_sets(\"MNIST_data/\", one_hot=True)\n",
    "print(\"Training data size: \", mnist.train.num_examples) \n",
    "print (\"Validating data size: \", mnist.validation.num_examples) \n",
    "print (\"Testing data size: \", mnist.test.num_examples) "
   ]
  },
  {
   "cell_type": "code",
   "execution_count": 3,
   "metadata": {},
   "outputs": [
    {
     "data": {
      "image/png": "[encoded data removed]",
      "text/plain": [
       "<matplotlib.figure.Figure at 0x2203cdfa9b0>"
      ]
     },
     "metadata": {},
     "output_type": "display_data"
    }
   ],
   "source": [
    "# 用plt看一下前9张图片\n",
    "\n",
    "plt.figure(facecolor='white')  \n",
    "plt.subplots_adjust(wspace=0.5, hspace=1)  #调整间距\n",
    "\n",
    "for i in range(9):\n",
    "    pic = np.reshape(mnist.train.images[i],(28,28))\n",
    "    plt.subplot(3,3,i+1)\n",
    "    plt.imshow(pic, cmap='gray', interpolation='none')\n",
    "    plt.title(\"Class {}\".format(np.argmax(mnist.train.labels[i])))"
   ]
  },
  {
   "cell_type": "code",
   "execution_count": 4,
   "metadata": {},
   "outputs": [
    {
     "name": "stdout",
     "output_type": "stream",
     "text": [
      "x_train.shape = (55000, 784)\n",
      "y_train.shape = (55000, 10)\n"
     ]
    }
   ],
   "source": [
    "x_train = mnist.train.images / 255.\n",
    "y_train = mnist.train.labels\n",
    "x_validation = mnist.validation.images / 255.\n",
    "y_validation = mnist.validation.labels\n",
    "x_test = mnist.test.images / 255.\n",
    "y_test = mnist.test.labels\n",
    "\n",
    "print('x_train.shape =' , x_train.shape)\n",
    "print('y_train.shape =' , y_train.shape)"
   ]
  },
  {
   "cell_type": "markdown",
   "metadata": {},
   "source": [
    "## 2、建模\n"
   ]
  },
  {
   "cell_type": "code",
   "execution_count": 5,
   "metadata": {},
   "outputs": [
    {
     "name": "stderr",
     "output_type": "stream",
     "text": [
      "Using TensorFlow backend.\n"
     ]
    }
   ],
   "source": [
    "import keras\n",
    "from keras.layers import Dense,Activation,Dropout\n",
    "from keras.models import Sequential\n",
    "from keras.optimizers import RMSprop\n",
    "\n",
    "batch_size = 128\n",
    "\n",
    "iter_epoch = 20\n",
    "\n",
    "class_num = 10"
   ]
  },
  {
   "cell_type": "code",
   "execution_count": 6,
   "metadata": {},
   "outputs": [
    {
     "name": "stdout",
     "output_type": "stream",
     "text": [
      "_________________________________________________________________\n",
      "Layer (type)                 Output Shape              Param #   \n",
      "=================================================================\n",
      "dense_1 (Dense)              (None, 512)               401920    \n",
      "_________________________________________________________________\n",
      "dropout_1 (Dropout)          (None, 512)               0         \n",
      "_________________________________________________________________\n",
      "dense_2 (Dense)              (None, 256)               131328    \n",
      "_________________________________________________________________\n",
      "activation_1 (Activation)    (None, 256)               0         \n",
      "_________________________________________________________________\n",
      "dropout_2 (Dropout)          (None, 256)               0         \n",
      "_________________________________________________________________\n",
      "dense_3 (Dense)              (None, 10)                2570      \n",
      "=================================================================\n",
      "Total params: 535,818\n",
      "Trainable params: 535,818\n",
      "Non-trainable params: 0\n",
      "_________________________________________________________________\n"
     ]
    }
   ],
   "source": [
    "model = Sequential()\n",
    "model.add(Dense(512,activation='relu',input_shape=(784,)))\n",
    "model.add(Dropout(0.2))\n",
    "\n",
    "model.add(Dense(256))\n",
    "model.add(Activation('relu'))\n",
    "model.add(Dropout(0.2))\n",
    "\n",
    "model.add(Dense(class_num,activation='softmax'))\n",
    "\n",
    "model.summary()"
   ]
  },
  {
   "cell_type": "code",
   "execution_count": 7,
   "metadata": {},
   "outputs": [],
   "source": [
    "model.compile(loss='categorical_crossentropy',\n",
    "             optimizer=RMSprop(),\n",
    "             metrics=['accuracy'])"
   ]
  },
  {
   "cell_type": "code",
   "execution_count": 8,
   "metadata": {},
   "outputs": [
    {
     "name": "stdout",
     "output_type": "stream",
     "text": [
      "Train on 55000 samples, validate on 5000 samples\n",
      "Epoch 1/20\n",
      "55000/55000 [==============================] - 4s 69us/step - loss: 0.9985 - acc: 0.6935 - val_loss: 0.4990 - val_acc: 0.8486\n",
      "Epoch 2/20\n",
      "55000/55000 [==============================] - 3s 47us/step - loss: 0.4260 - acc: 0.8705 - val_loss: 0.3277 - val_acc: 0.9046\n",
      "Epoch 3/20\n",
      "55000/55000 [==============================] - 3s 46us/step - loss: 0.3313 - acc: 0.9016 - val_loss: 0.2654 - val_acc: 0.9244\n",
      "Epoch 4/20\n",
      "55000/55000 [==============================] - 3s 49us/step - loss: 0.2758 - acc: 0.9181 - val_loss: 0.2142 - val_acc: 0.9366\n",
      "Epoch 5/20\n",
      "55000/55000 [==============================] - 2s 43us/step - loss: 0.2337 - acc: 0.9302 - val_loss: 0.1839 - val_acc: 0.9448\n",
      "Epoch 6/20\n",
      "55000/55000 [==============================] - 2s 41us/step - loss: 0.2014 - acc: 0.9397 - val_loss: 0.1758 - val_acc: 0.9488\n",
      "Epoch 7/20\n",
      "55000/55000 [==============================] - 2s 45us/step - loss: 0.1760 - acc: 0.9465 - val_loss: 0.1558 - val_acc: 0.9548\n",
      "Epoch 8/20\n",
      "55000/55000 [==============================] - 3s 49us/step - loss: 0.1574 - acc: 0.9528 - val_loss: 0.1279 - val_acc: 0.9602\n",
      "Epoch 9/20\n",
      "55000/55000 [==============================] - 3s 47us/step - loss: 0.1416 - acc: 0.9570 - val_loss: 0.1166 - val_acc: 0.9640\n",
      "Epoch 10/20\n",
      "55000/55000 [==============================] - 2s 42us/step - loss: 0.1282 - acc: 0.9612 - val_loss: 0.1074 - val_acc: 0.9698\n",
      "Epoch 11/20\n",
      "55000/55000 [==============================] - 2s 44us/step - loss: 0.1180 - acc: 0.9638 - val_loss: 0.1024 - val_acc: 0.9712\n",
      "Epoch 12/20\n",
      "55000/55000 [==============================] - 2s 43us/step - loss: 0.1077 - acc: 0.9676 - val_loss: 0.0941 - val_acc: 0.9726\n",
      "Epoch 13/20\n",
      "55000/55000 [==============================] - 2s 43us/step - loss: 0.1007 - acc: 0.9697 - val_loss: 0.0902 - val_acc: 0.9742\n",
      "Epoch 14/20\n",
      "55000/55000 [==============================] - 2s 41us/step - loss: 0.0939 - acc: 0.9718 - val_loss: 0.0853 - val_acc: 0.9766\n",
      "Epoch 15/20\n",
      "55000/55000 [==============================] - 3s 47us/step - loss: 0.0897 - acc: 0.9732 - val_loss: 0.0920 - val_acc: 0.9728\n",
      "Epoch 16/20\n",
      "55000/55000 [==============================] - 2s 44us/step - loss: 0.0835 - acc: 0.9748 - val_loss: 0.0787 - val_acc: 0.9790\n",
      "Epoch 17/20\n",
      "55000/55000 [==============================] - 3s 46us/step - loss: 0.0785 - acc: 0.9765 - val_loss: 0.0773 - val_acc: 0.9778\n",
      "Epoch 18/20\n",
      "55000/55000 [==============================] - 2s 45us/step - loss: 0.0735 - acc: 0.9776 - val_loss: 0.0786 - val_acc: 0.9778\n",
      "Epoch 19/20\n",
      "55000/55000 [==============================] - 2s 44us/step - loss: 0.0694 - acc: 0.9791 - val_loss: 0.0814 - val_acc: 0.9780\n",
      "Epoch 20/20\n",
      "55000/55000 [==============================] - 2s 45us/step - loss: 0.0663 - acc: 0.9802 - val_loss: 0.0715 - val_acc: 0.9792\n"
     ]
    }
   ],
   "source": [
    "#真正开始训练\n",
    "history  = model.fit(x=x_train,y=y_train,\n",
    "          epochs=iter_epoch,\n",
    "          batch_size=batch_size,\n",
    "          verbose=1,\n",
    "          validation_data=(x_validation,y_validation),\n",
    "            callbacks=)"
   ]
  },
  {
   "cell_type": "markdown",
   "metadata": {},
   "source": [
    "## 3、模型测试"
   ]
  },
  {
   "cell_type": "code",
   "execution_count": 9,
   "metadata": {},
   "outputs": [
    {
     "name": "stdout",
     "output_type": "stream",
     "text": [
      "total lost = 0.080499928136\n",
      "accuracy = 0.9767\n"
     ]
    }
   ],
   "source": [
    "score = model.evaluate(x=x_test,y=y_test,verbose=0,batch_size=batch_size)\n",
    "print('total lost =',score[0])\n",
    "print('accuracy =',score[1])"
   ]
  },
  {
   "cell_type": "code",
   "execution_count": 10,
   "metadata": {},
   "outputs": [
    {
     "name": "stdout",
     "output_type": "stream",
     "text": [
      "<keras.callbacks.History object at 0x000002203F289320>\n"
     ]
    }
   ],
   "source": [
    "print(history)"
   ]
  },
  {
   "cell_type": "code",
   "execution_count": 11,
   "metadata": {},
   "outputs": [],
   "source": [
    "acc, loss, val_acc, val_loss = history.history['acc'], history.history['loss'], history.history['val_acc'], history.history['val_loss']"
   ]
  },
  {
   "cell_type": "code",
   "execution_count": 12,
   "metadata": {},
   "outputs": [
    {
     "name": "stdout",
     "output_type": "stream",
     "text": [
      "[0.6934545454458757, 0.87049090907356952, 0.9016181818008423, 0.91805454548922449, 0.9302181817835028, 0.93967272727272733, 0.94647272731607612, 0.95281818183552136, 0.9570363635930148, 0.96120000001733952, 0.9638000000260093, 0.96761818179217252, 0.96967272729006682, 0.97180000003467903, 0.97321818185286091, 0.97476363638097585, 0.97650909092643046, 0.97758181819915768, 0.97914545456279412, 0.98016363638964565]\n"
     ]
    }
   ],
   "source": [
    "print(acc)"
   ]
  },
  {
   "cell_type": "code",
   "execution_count": 15,
   "metadata": {},
   "outputs": [
    {
     "name": "stdout",
     "output_type": "stream",
     "text": [
      "20\n"
     ]
    }
   ],
   "source": [
    "print(len(loss))"
   ]
  },
  {
   "cell_type": "code",
   "execution_count": 16,
   "metadata": {},
   "outputs": [
    {
     "data": {
      "image/png": "[encoded data removed]",
      "text/plain": [
       "<matplotlib.figure.Figure at 0x220415eb828>"
      ]
     },
     "metadata": {},
     "output_type": "display_data"
    }
   ],
   "source": [
    "def plot_acc_loss(h, nb_epoch):\n",
    "    acc, loss, val_acc, val_loss = h.history['acc'], h.history['loss'], h.history['val_acc'], h.history['val_loss']\n",
    "    plt.figure(figsize=(15, 5))\n",
    "    plt.subplot(121)\n",
    "    plt.plot(range(nb_epoch), acc, label='Train')\n",
    "    plt.plot(range(nb_epoch), val_acc, label='Test')\n",
    "    plt.title('Accuracy over ' + str(nb_epoch) + ' Epochs', size=15)\n",
    "    plt.legend()\n",
    "    plt.grid(True)\n",
    "    plt.subplot(122)\n",
    "    plt.plot(range(nb_epoch), loss, label='Train')\n",
    "    plt.plot(range(nb_epoch), val_loss, label='Test')\n",
    "    plt.title('Loss over ' + str(nb_epoch) + ' Epochs', size=15)\n",
    "    plt.legend()\n",
    "    plt.grid(True)\n",
    "    plt.show()\n",
    "plot_acc_loss(history,iter_epoch)"
   ]
  },
  {
   "cell_type": "code",
   "execution_count": null,
   "metadata": {},
   "outputs": [],
   "source": []
  }
 ],
 "metadata": {
  "kernelspec": {
   "display_name": "Python 3",
   "language": "python",
   "name": "python3"
  },
  "language_info": {
   "codemirror_mode": {
    "name": "ipython",
    "version": 3
   },
   "file_extension": ".py",
   "mimetype": "text/x-python",
   "name": "python",
   "nbconvert_exporter": "python",
   "pygments_lexer": "ipython3",
   "version": "3.5.4"
  }
 },
 "nbformat": 4,
 "nbformat_minor": 2
}
