{
 "cells": [
  {
   "cell_type": "code",
   "execution_count": 1,
   "metadata": {},
   "outputs": [],
   "source": [
    "%matplotlib inline\n",
    "\n",
    "import tensorflow as tf\n",
    "import matplotlib.pyplot as plt\n",
    "import numpy as np\n",
    "import tensorflow.examples.tutorials.mnist.input_data as input_data"
   ]
  },
  {
   "cell_type": "markdown",
   "metadata": {},
   "source": [
    "## 1、数据准备与预处理"
   ]
  },
  {
   "cell_type": "code",
   "execution_count": 2,
   "metadata": {},
   "outputs": [
    {
     "name": "stdout",
     "output_type": "stream",
     "text": [
      "Extracting MNIST_data/train-images-idx3-ubyte.gz\n",
      "Extracting MNIST_data/train-labels-idx1-ubyte.gz\n",
      "Extracting MNIST_data/t10k-images-idx3-ubyte.gz\n",
      "Extracting MNIST_data/t10k-labels-idx1-ubyte.gz\n",
      "Training data size:  55000\n",
      "Validating data size:  5000\n",
      "Testing data size:  10000\n"
     ]
    }
   ],
   "source": [
    "# 利用tf中的工具类加载mnist，也可以用Keras中的\n",
    "mnist = input_data.read_data_sets(\"MNIST_data/\", one_hot=True)\n",
    "print(\"Training data size: \", mnist.train.num_examples) \n",
    "print (\"Validating data size: \", mnist.validation.num_examples) \n",
    "print (\"Testing data size: \", mnist.test.num_examples) "
   ]
  },
  {
   "cell_type": "code",
   "execution_count": 3,
   "metadata": {},
   "outputs": [
    {
     "data": {
      "image/png": "[encoded data removed]",
      "text/plain": [
       "<matplotlib.figure.Figure at 0x2289afae978>"
      ]
     },
     "metadata": {},
     "output_type": "display_data"
    }
   ],
   "source": [
    "# 用plt看一下前9张图片\n",
    "\n",
    "plt.figure(facecolor='white')  \n",
    "plt.subplots_adjust(wspace=0.5, hspace=1)  #调整间距\n",
    "\n",
    "for i in range(9):\n",
    "    pic = np.reshape(mnist.train.images[i],(28,28))\n",
    "    plt.subplot(3,3,i+1)\n",
    "    plt.imshow(pic, cmap='gray', interpolation='none')\n",
    "    plt.title(\"Class {}\".format(np.argmax(mnist.train.labels[i])))"
   ]
  },
  {
   "cell_type": "code",
   "execution_count": 4,
   "metadata": {},
   "outputs": [
    {
     "name": "stdout",
     "output_type": "stream",
     "text": [
      "x_train.shape = (55000, 784)\n",
      "y_train.shape = (55000, 10)\n"
     ]
    }
   ],
   "source": [
    "x_train = mnist.train.images / 255.\n",
    "y_train = mnist.train.labels\n",
    "x_validation = mnist.validation.images / 255.\n",
    "y_validation = mnist.validation.labels\n",
    "x_test = mnist.test.images / 255.\n",
    "y_test = mnist.test.labels\n",
    "\n",
    "print('x_train.shape =' , x_train.shape)\n",
    "print('y_train.shape =' , y_train.shape)"
   ]
  },
  {
   "cell_type": "markdown",
   "metadata": {},
   "source": [
    "## 2、建模\n"
   ]
  },
  {
   "cell_type": "code",
   "execution_count": 5,
   "metadata": {},
   "outputs": [
    {
     "name": "stderr",
     "output_type": "stream",
     "text": [
      "Using TensorFlow backend.\n"
     ]
    }
   ],
   "source": [
    "import keras\n",
    "from keras.layers import Dense,Activation,Dropout\n",
    "from keras.models import Sequential\n",
    "from keras.optimizers import RMSprop\n",
    "\n",
    "batch_size = 128\n",
    "\n",
    "iter_epoch = 20\n",
    "\n",
    "class_num = 10"
   ]
  },
  {
   "cell_type": "code",
   "execution_count": 6,
   "metadata": {},
   "outputs": [
    {
     "name": "stdout",
     "output_type": "stream",
     "text": [
      "_________________________________________________________________\n",
      "Layer (type)                 Output Shape              Param #   \n",
      "=================================================================\n",
      "dense_1 (Dense)              (None, 512)               401920    \n",
      "_________________________________________________________________\n",
      "dropout_1 (Dropout)          (None, 512)               0         \n",
      "_________________________________________________________________\n",
      "dense_2 (Dense)              (None, 256)               131328    \n",
      "_________________________________________________________________\n",
      "activation_1 (Activation)    (None, 256)               0         \n",
      "_________________________________________________________________\n",
      "dropout_2 (Dropout)          (None, 256)               0         \n",
      "_________________________________________________________________\n",
      "dense_3 (Dense)              (None, 10)                2570      \n",
      "=================================================================\n",
      "Total params: 535,818\n",
      "Trainable params: 535,818\n",
      "Non-trainable params: 0\n",
      "_________________________________________________________________\n"
     ]
    }
   ],
   "source": [
    "model = Sequential()\n",
    "model.add(Dense(512,activation='relu',input_shape=(784,)))\n",
    "model.add(Dropout(0.2))\n",
    "\n",
    "model.add(Dense(256))\n",
    "model.add(Activation('relu'))\n",
    "model.add(Dropout(0.2))\n",
    "\n",
    "model.add(Dense(class_num,activation='softmax'))\n",
    "\n",
    "model.summary()"
   ]
  },
  {
   "cell_type": "code",
   "execution_count": 7,
   "metadata": {},
   "outputs": [],
   "source": [
    "model.compile(loss='categorical_crossentropy',\n",
    "             optimizer=RMSprop(),\n",
    "             metrics=['accuracy'])"
   ]
  },
  {
   "cell_type": "code",
   "execution_count": 8,
   "metadata": {},
   "outputs": [
    {
     "name": "stdout",
     "output_type": "stream",
     "text": [
      "Train on 55000 samples, validate on 5000 samples\n",
      "Epoch 1/20\n",
      "55000/55000 [==============================] - 3s 52us/step - loss: 1.0007 - acc: 0.6920 - val_loss: 0.4514 - val_acc: 0.8770\n",
      "Epoch 2/20\n",
      "55000/55000 [==============================] - 3s 47us/step - loss: 0.4169 - acc: 0.8766 - val_loss: 0.3333 - val_acc: 0.8994\n",
      "Epoch 3/20\n",
      "55000/55000 [==============================] - 3s 49us/step - loss: 0.3295 - acc: 0.9020 - val_loss: 0.2625 - val_acc: 0.9254\n",
      "Epoch 4/20\n",
      "55000/55000 [==============================] - 3s 49us/step - loss: 0.2762 - acc: 0.9184 - val_loss: 0.2217 - val_acc: 0.9352\n",
      "Epoch 5/20\n",
      "55000/55000 [==============================] - 3s 47us/step - loss: 0.2348 - acc: 0.9296 - val_loss: 0.1849 - val_acc: 0.9440\n",
      "Epoch 6/20\n",
      "55000/55000 [==============================] - 3s 48us/step - loss: 0.2020 - acc: 0.9394 - val_loss: 0.1786 - val_acc: 0.9470\n",
      "Epoch 7/20\n",
      "55000/55000 [==============================] - 3s 49us/step - loss: 0.1764 - acc: 0.9462 - val_loss: 0.1430 - val_acc: 0.9586\n",
      "Epoch 8/20\n",
      "55000/55000 [==============================] - 3s 48us/step - loss: 0.1564 - acc: 0.9529 - val_loss: 0.1361 - val_acc: 0.9604\n",
      "Epoch 9/20\n",
      "55000/55000 [==============================] - 3s 46us/step - loss: 0.1426 - acc: 0.9569 - val_loss: 0.1173 - val_acc: 0.9662\n",
      "Epoch 10/20\n",
      "55000/55000 [==============================] - 3s 49us/step - loss: 0.1283 - acc: 0.9609 - val_loss: 0.1074 - val_acc: 0.9702\n",
      "Epoch 11/20\n",
      "55000/55000 [==============================] - 2s 44us/step - loss: 0.1187 - acc: 0.9644 - val_loss: 0.0998 - val_acc: 0.9728\n",
      "Epoch 12/20\n",
      "55000/55000 [==============================] - 3s 49us/step - loss: 0.1103 - acc: 0.9665 - val_loss: 0.1018 - val_acc: 0.9710\n",
      "Epoch 13/20\n",
      "55000/55000 [==============================] - 2s 44us/step - loss: 0.1026 - acc: 0.9689 - val_loss: 0.0937 - val_acc: 0.9720\n",
      "Epoch 14/20\n",
      "55000/55000 [==============================] - 3s 49us/step - loss: 0.0954 - acc: 0.9710 - val_loss: 0.0998 - val_acc: 0.9702\n",
      "Epoch 15/20\n",
      "55000/55000 [==============================] - 3s 47us/step - loss: 0.0893 - acc: 0.9736 - val_loss: 0.0896 - val_acc: 0.9728\n",
      "Epoch 16/20\n",
      "55000/55000 [==============================] - 3s 50us/step - loss: 0.0832 - acc: 0.9749 - val_loss: 0.0889 - val_acc: 0.9756\n",
      "Epoch 17/20\n",
      "55000/55000 [==============================] - 3s 47us/step - loss: 0.0795 - acc: 0.9758 - val_loss: 0.0862 - val_acc: 0.9748\n",
      "Epoch 18/20\n",
      "55000/55000 [==============================] - 3s 48us/step - loss: 0.0745 - acc: 0.9773 - val_loss: 0.0834 - val_acc: 0.9760\n",
      "Epoch 19/20\n",
      "55000/55000 [==============================] - 3s 47us/step - loss: 0.0711 - acc: 0.9787 - val_loss: 0.0799 - val_acc: 0.9774\n",
      "Epoch 20/20\n",
      "55000/55000 [==============================] - 2s 45us/step - loss: 0.0685 - acc: 0.9788 - val_loss: 0.0782 - val_acc: 0.9786\n"
     ]
    }
   ],
   "source": [
    "cb = keras.callbacks.TensorBoard(log_dir='./logs', histogram_freq=0, write_graph=True, write_images=False, embeddings_freq=0, embeddings_layer_names=None, embeddings_metadata=None)\n",
    "\n",
    "#真正开始训练\n",
    "history  = model.fit(x=x_train,y=y_train,\n",
    "          epochs=iter_epoch,\n",
    "          batch_size=batch_size,\n",
    "          verbose=1,\n",
    "          validation_data=(x_validation,y_validation),\n",
    "          callbacks=[cb])"
   ]
  },
  {
   "cell_type": "markdown",
   "metadata": {},
   "source": [
    "## 3、模型测试"
   ]
  },
  {
   "cell_type": "code",
   "execution_count": 9,
   "metadata": {},
   "outputs": [
    {
     "name": "stdout",
     "output_type": "stream",
     "text": [
      "total lost = 0.0820147357225\n",
      "accuracy = 0.9773\n"
     ]
    }
   ],
   "source": [
    "score = model.evaluate(x=x_test,y=y_test,verbose=0,batch_size=batch_size)\n",
    "print('total lost =',score[0])\n",
    "print('accuracy =',score[1])"
   ]
  },
  {
   "cell_type": "code",
   "execution_count": 10,
   "metadata": {},
   "outputs": [
    {
     "name": "stdout",
     "output_type": "stream",
     "text": [
      "<keras.callbacks.History object at 0x000002289D01E128>\n"
     ]
    }
   ],
   "source": [
    "print(history)"
   ]
  },
  {
   "cell_type": "code",
   "execution_count": 11,
   "metadata": {},
   "outputs": [],
   "source": [
    "acc, loss, val_acc, val_loss = history.history['acc'], history.history['loss'], history.history['val_acc'], history.history['val_loss']"
   ]
  },
  {
   "cell_type": "code",
   "execution_count": 12,
   "metadata": {},
   "outputs": [
    {
     "name": "stdout",
     "output_type": "stream",
     "text": [
      "[0.69199999997399075, 0.87661818180084228, 0.90200000000866976, 0.9184000000260093, 0.92958181819048791, 0.9394181818615307, 0.94623636367104269, 0.95292727270126343, 0.95694545458013358, 0.96094545457146385, 0.96441818177483296, 0.96647272724671796, 0.96889090904756026, 0.97099999995665121, 0.97356363639831545, 0.97492727274461222, 0.97583636362769388, 0.97727272724671799, 0.97869090904756029, 0.97883636363636362]\n"
     ]
    }
   ],
   "source": [
    "print(acc)"
   ]
  },
  {
   "cell_type": "code",
   "execution_count": 13,
   "metadata": {},
   "outputs": [
    {
     "name": "stdout",
     "output_type": "stream",
     "text": [
      "20\n"
     ]
    }
   ],
   "source": [
    "print(len(loss))"
   ]
  },
  {
   "cell_type": "code",
   "execution_count": 15,
   "metadata": {},
   "outputs": [
    {
     "data": {
      "image/png": "[encoded data removed]",
      "text/plain": [
       "<matplotlib.figure.Figure at 0x2289dc713c8>"
      ]
     },
     "metadata": {},
     "output_type": "display_data"
    }
   ],
   "source": [
    "def plot_acc_loss(h, nb_epoch):\n",
    "    acc, loss, val_acc, val_loss = h.history['acc'], h.history['loss'], h.history['val_acc'], h.history['val_loss']\n",
    "    plt.figure(figsize=(15, 5))\n",
    "    plt.subplot(121)\n",
    "    plt.plot(range(nb_epoch), acc, label='Train')\n",
    "    plt.plot(range(nb_epoch), val_acc, label='Validation')\n",
    "    plt.title('Accuracy over ' + str(nb_epoch) + ' Epochs', size=15)\n",
    "    plt.legend()\n",
    "    plt.grid(True)\n",
    "    plt.subplot(122)\n",
    "    plt.plot(range(nb_epoch), loss, label='Train')\n",
    "    plt.plot(range(nb_epoch), val_loss, label='Validation')\n",
    "    plt.title('Loss over ' + str(nb_epoch) + ' Epochs', size=15)\n",
    "    plt.legend()\n",
    "    plt.grid(True)\n",
    "    plt.show()\n",
    "plot_acc_loss(history,iter_epoch)"
   ]
  },
  {
   "cell_type": "code",
   "execution_count": null,
   "metadata": {},
   "outputs": [],
   "source": []
  }
 ],
 "metadata": {
  "kernelspec": {
   "display_name": "Python 3",
   "language": "python",
   "name": "python3"
  },
  "language_info": {
   "codemirror_mode": {
    "name": "ipython",
    "version": 3
   },
   "file_extension": ".py",
   "mimetype": "text/x-python",
   "name": "python",
   "nbconvert_exporter": "python",
   "pygments_lexer": "ipython3",
   "version": "3.5.4"
  }
 },
 "nbformat": 4,
 "nbformat_minor": 2
}
